{
 "cells": [
  {
   "cell_type": "code",
   "execution_count": 2,
   "metadata": {},
   "outputs": [],
   "source": [
    "import numpy as np\n",
    "%run normalization.ipynb\n",
    "\n",
    "def prepare_for_training(data, normalize_data=True):\n",
    "    \"\"\"Prepares data set for training on prediction\"\"\"\n",
    "\n",
    "    # Calculate the number of examples.\n",
    "    num_examples = data.shape[0]\n",
    "\n",
    "    # Prevent original data from being modified.\n",
    "    data_processed = np.copy(data)\n",
    "\n",
    "    # Normalize data set.\n",
    "    features_mean = 0\n",
    "    features_deviation = 0\n",
    "    data_normalized = data_processed\n",
    "    if normalize_data:\n",
    "        (\n",
    "            data_normalized,\n",
    "            features_mean,\n",
    "            features_deviation\n",
    "        ) = normalize(data_processed)\n",
    "\n",
    "        # Replace processed data with normalized processed data.\n",
    "        data_processed = data_normalized\n",
    "\n",
    "    # Add a column of ones to X.\n",
    "    data_processed = np.hstack((np.ones((num_examples, 1)), data_processed))\n",
    "\n",
    "    return data_processed, features_mean, features_deviation"
   ]
  },
  {
   "cell_type": "code",
   "execution_count": null,
   "metadata": {},
   "outputs": [],
   "source": []
  }
 ],
 "metadata": {
  "kernelspec": {
   "display_name": "Python 3",
   "language": "python",
   "name": "python3"
  },
  "language_info": {
   "codemirror_mode": {
    "name": "ipython",
    "version": 3
   },
   "file_extension": ".py",
   "mimetype": "text/x-python",
   "name": "python",
   "nbconvert_exporter": "python",
   "pygments_lexer": "ipython3",
   "version": "3.7.4"
  }
 },
 "nbformat": 4,
 "nbformat_minor": 2
}
