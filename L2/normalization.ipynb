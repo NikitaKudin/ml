{
 "cells": [
  {
   "cell_type": "code",
   "execution_count": null,
   "metadata": {},
   "outputs": [],
   "source": [
    "import numpy as np\n",
    "\n",
    "def normalize(features):\n",
    "    \"\"\"Normalize features.\n",
    "    Normalizes input features X. Returns a normalized version of X where the mean value of\n",
    "    each feature is 0 and deviation is close to 1.\n",
    "    :param features: set of features.\n",
    "    :return: normalized set of features.\n",
    "    \"\"\"\n",
    "\n",
    "    # copy original to prevent data change\n",
    "    features_normalized = np.copy(features).astype(float)\n",
    "\n",
    "    # get avarage value for each feature in X\n",
    "    features_mean = np.mean(features, 0)\n",
    "\n",
    "    # calculate the standard deviation for each feature\n",
    "    features_deviation = np.std(features, 0)\n",
    "\n",
    "    # Subtract mean values from each feature (column) of every example (row)\n",
    "    # to make all features be spread around zero.\n",
    "    if features.shape[0] > 1:\n",
    "        features_normalized -= features_mean\n",
    "\n",
    "    # normalize each feature values so that all features are close to [-1:1] boundaries\n",
    "    # also prevent division by zero error\n",
    "    features_deviation[features_deviation == 0] = 1\n",
    "    features_normalized /= features_deviation\n",
    "\n",
    "    return features_normalized, features_mean, features_deviation"
   ]
  }
 ],
 "metadata": {
  "kernelspec": {
   "display_name": "Python 3",
   "language": "python",
   "name": "python3"
  },
  "language_info": {
   "codemirror_mode": {
    "name": "ipython",
    "version": 3
   },
   "file_extension": ".py",
   "mimetype": "text/x-python",
   "name": "python",
   "nbconvert_exporter": "python",
   "pygments_lexer": "ipython3",
   "version": "3.7.4"
  }
 },
 "nbformat": 4,
 "nbformat_minor": 2
}
